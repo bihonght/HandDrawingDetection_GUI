{
  "nbformat": 4,
  "nbformat_minor": 0,
  "metadata": {
    "colab": {
      "provenance": [],
      "gpuType": "T4"
    },
    "kernelspec": {
      "name": "python3",
      "display_name": "Python 3"
    },
    "language_info": {
      "name": "python"
    },
    "accelerator": "GPU"
  },
  "cells": [
    {
      "cell_type": "markdown",
      "source": [
        "#NEURAL NETWORKS: HANDWRITTEN CHARACTER RECOGNITION"
      ],
      "metadata": {
        "id": "hYfkrHN40SMS"
      }
    },
    {
      "cell_type": "code",
      "source": [
        "from google.colab import drive\n",
        "drive.mount('/content/drive')"
      ],
      "metadata": {
        "id": "l_25fuuPQWhX",
        "colab": {
          "base_uri": "https://localhost:8080/"
        },
        "outputId": "9fc28afc-3cad-4cee-d138-ebf4e63b7ae0"
      },
      "execution_count": null,
      "outputs": [
        {
          "output_type": "stream",
          "name": "stdout",
          "text": [
            "Drive already mounted at /content/drive; to attempt to forcibly remount, call drive.mount(\"/content/drive\", force_remount=True).\n"
          ]
        }
      ]
    },
    {
      "cell_type": "markdown",
      "source": [
        "**Step 1**: Import the necesary libraries\n",
        "- Numpy: for working with data and doing operations with it easly\n",
        "- Matplotlib: for plotting results\n",
        "- Keras: to obtain the data set"
      ],
      "metadata": {
        "id": "iS1g7ruL0coW"
      }
    },
    {
      "cell_type": "code",
      "execution_count": null,
      "metadata": {
        "id": "A0cDNaX6zx9k"
      },
      "outputs": [],
      "source": [
        "#import libraries\n",
        "import numpy as np\n",
        "import matplotlib.pyplot as plt\n",
        "import cv2\n",
        "from google.colab.patches import cv2_imshow\n",
        "import keras\n",
        "from keras.datasets import mnist\n"
      ]
    },
    {
      "cell_type": "markdown",
      "source": [
        "Step 2: Get data and Data Preprocessing:"
      ],
      "metadata": {
        "id": "DbFhc6DO0RB_"
      }
    },
    {
      "cell_type": "code",
      "source": [
        "(X_train, y_train),(X_test, y_test) = mnist.load_data();"
      ],
      "metadata": {
        "id": "IbvjnVXR1ZsH"
      },
      "execution_count": null,
      "outputs": []
    },
    {
      "cell_type": "markdown",
      "source": [
        "Data Set Analysis"
      ],
      "metadata": {
        "id": "HJyzgCK3BFqZ"
      }
    },
    {
      "cell_type": "code",
      "source": [
        "print(f\"Training Set={X_train.shape} and Testing Set={ X_test.shape}\")#Group-2"
      ],
      "metadata": {
        "colab": {
          "base_uri": "https://localhost:8080/"
        },
        "id": "cFJwesur8jpi",
        "outputId": "659fc40f-012e-403a-a229-aec40b64f078"
      },
      "execution_count": null,
      "outputs": [
        {
          "output_type": "stream",
          "name": "stdout",
          "text": [
            "Training Set=(60000, 28, 28) and Testing Set=(10000, 28, 28)\n"
          ]
        }
      ]
    },
    {
      "cell_type": "code",
      "source": [
        "def plot_train(num_images):#Group-2\n",
        "  fig, axes = plt.subplots(1, num_images, figsize=(10, 5))\n",
        "  for i in range(num_images):\n",
        "      axes[i].imshow(X_train[i], cmap='binary')\n",
        "      axes[i].set_title(\"Label: \"+ str(y_train[i]))\n",
        "      axes[i].axis('off')\n",
        "  plt.show()\n",
        "\n",
        "plot_train(2)"
      ],
      "metadata": {
        "colab": {
          "base_uri": "https://localhost:8080/",
          "height": 411
        },
        "outputId": "4acda3e8-cfa8-4236-9f61-79e74a9aa82c",
        "id": "m1i4-usmMQTt"
      },
      "execution_count": null,
      "outputs": [
        {
          "output_type": "display_data",
          "data": {
            "text/plain": [
              "<Figure size 1000x500 with 2 Axes>"
            ],
            "image/png": "[encoded data removed]"
          },
          "metadata": {}
        }
      ]
    },
    {
      "cell_type": "code",
      "source": [
        "def plot_test(num_images):#Group-2\n",
        "  fig, axes = plt.subplots(1, num_images, figsize=(10, 5))\n",
        "  for i in range(num_images):\n",
        "      axes[i].imshow(X_test[i], cmap='binary')\n",
        "      axes[i].set_title(\"Label: \"+ str(y_test[i]))\n",
        "      axes[i].axis('off')\n",
        "  plt.show()\n",
        "\n",
        "plot_test(2)"
      ],
      "metadata": {
        "colab": {
          "base_uri": "https://localhost:8080/",
          "height": 411
        },
        "outputId": "ff360265-e6bf-4a9f-833c-afdb53da5742",
        "id": "SE4l2O-1OZ2m"
      },
      "execution_count": null,
      "outputs": [
        {
          "output_type": "display_data",
          "data": {
            "text/plain": [
              "<Figure size 1000x500 with 2 Axes>"
            ],
            "image/png": "[encoded data removed]"
          },
          "metadata": {}
        }
      ]
    },
    {
      "cell_type": "markdown",
      "source": [
        "We code some function for reprenting visually some of the digits:"
      ],
      "metadata": {
        "id": "ChlJoGhY5nRC"
      }
    },
    {
      "cell_type": "markdown",
      "source": [
        "##Preprocessing the data\n",
        "We are going to use `astype()` function to normalize the pixel values in a dataset, and then divide it by 255 to obtain values between 0 and 1"
      ],
      "metadata": {
        "id": "aIvjwOpH6JeX"
      }
    },
    {
      "cell_type": "code",
      "source": [
        "#Normalize the data:\n",
        "\n",
        "X_train = X_train.astype(np.float32)/255;\n",
        "X_test = X_test.astype(np.float32)/255;"
      ],
      "metadata": {
        "id": "gAQ4aV4e6M9M"
      },
      "execution_count": null,
      "outputs": []
    },
    {
      "cell_type": "markdown",
      "source": [
        "Also, we need to reshape or dataset in order to XXXX"
      ],
      "metadata": {
        "id": "AiIMkD6L7R2W"
      }
    },
    {
      "cell_type": "code",
      "source": [
        "print(X_train.shape)\n",
        "print(X_test.shape)"
      ],
      "metadata": {
        "colab": {
          "base_uri": "https://localhost:8080/"
        },
        "id": "7y7QqFQZ68ga",
        "outputId": "687f548a-1c12-4f19-fc10-d58f454feb1d"
      },
      "execution_count": null,
      "outputs": [
        {
          "output_type": "stream",
          "name": "stdout",
          "text": [
            "(60000, 28, 28)\n",
            "(10000, 28, 28)\n"
          ]
        }
      ]
    },
    {
      "cell_type": "code",
      "source": [
        "X_train = X_train.reshape(X_train.shape[0], X_train.shape[1], X_train.shape[2], 1)\n",
        "X_test = X_test.reshape(X_test.shape[0], X_test.shape[1], X_test.shape[2], 1)\n",
        "\n",
        "print(X_train.shape)\n",
        "print(X_test.shape)\n"
      ],
      "metadata": {
        "colab": {
          "base_uri": "https://localhost:8080/"
        },
        "id": "Ba91Jjqk68Jw",
        "outputId": "f2144083-2779-4ea5-b9f5-b20b1e8e9a39"
      },
      "execution_count": null,
      "outputs": [
        {
          "output_type": "stream",
          "name": "stdout",
          "text": [
            "(60000, 28, 28, 1)\n",
            "(10000, 28, 28, 1)\n"
          ]
        }
      ]
    },
    {
      "cell_type": "markdown",
      "source": [
        "After the reshape, we see that we have now another dimension. We have done this because afterwards we are going to need that fourth entry. Let's explain the meaning of each one:\n",
        "- 6000 is the batch_size, number of samples in each batch of data\n",
        "- 28 is the image height\n",
        "- 28 is the image weidth\n",
        "- 1 is the channel, as the images are in the grayscale"
      ],
      "metadata": {
        "id": "gXdEP0VS8dEG"
      }
    },
    {
      "cell_type": "markdown",
      "source": [
        "We have also to modify the target labels (y-datasets). In machine learing algorithms, it is commonly used the **one-hot encoding** data, that means that each label instead of being a numerical or categorical data, is going to become a binary vector. We use this to avoid ordinal relationships."
      ],
      "metadata": {
        "id": "U7oZ5QB79ljX"
      }
    },
    {
      "cell_type": "code",
      "source": [
        "print(\"The original target label is \" + str(y_train[4]))\n",
        "\n",
        "y_train = keras.utils.to_categorical(y_train)\n",
        "y_test = keras.utils.to_categorical(y_test)\n",
        "\n",
        "print(\"The one-hot encoded target label is \" + str(y_train[4]))"
      ],
      "metadata": {
        "colab": {
          "base_uri": "https://localhost:8080/"
        },
        "id": "swwxKAbk9p4E",
        "outputId": "f8add09f-151d-491e-fa32-ee6408dcf53c"
      },
      "execution_count": null,
      "outputs": [
        {
          "output_type": "stream",
          "name": "stdout",
          "text": [
            "The original target label is 9\n",
            "The one-hot encoded target label is [0. 0. 0. 0. 0. 0. 0. 0. 0. 1.]\n"
          ]
        }
      ]
    },
    {
      "cell_type": "markdown",
      "source": [
        "##Star with the model"
      ],
      "metadata": {
        "id": "B-HidFg8ASoU"
      }
    },
    {
      "cell_type": "code",
      "source": [
        "from keras.models import Sequential\n",
        "from keras.layers import Dense, Conv2D, MaxPool2D, Flatten, Dropout\n"
      ],
      "metadata": {
        "id": "8lmfHUKcAWon"
      },
      "execution_count": null,
      "outputs": []
    },
    {
      "cell_type": "markdown",
      "source": [
        "Lets start with a model without using any hyperparamter optimazation, just to see the output and how this sequential works. We start the model using sequential and then we start adding layers:"
      ],
      "metadata": {
        "id": "pF2FdUdaBZ6L"
      }
    },
    {
      "cell_type": "code",
      "source": [
        "model = Sequential()\n",
        "\n",
        "model.add(Conv2D(32, (3,3), input_shape = (28,28,1), activation = 'relu'))\n",
        "model.add(MaxPool2D((2,2)))\n",
        "\n",
        "model.add(Conv2D(64, (3,3), activation = 'relu'))\n",
        "model.add(MaxPool2D((2,2)))\n",
        "#avoid overfitting\n",
        "model.add(Dropout(0.5))\n",
        "model.add(Flatten())\n",
        "\n",
        "model.add(Dense(10, activation = 'softmax'))"
      ],
      "metadata": {
        "id": "6RTQkdnlBeiC"
      },
      "execution_count": null,
      "outputs": []
    },
    {
      "cell_type": "markdown",
      "source": [
        "If we want to see the summary of the model:"
      ],
      "metadata": {
        "id": "obHx2etUC_Py"
      }
    },
    {
      "cell_type": "code",
      "source": [
        "model.summary()"
      ],
      "metadata": {
        "colab": {
          "base_uri": "https://localhost:8080/"
        },
        "id": "s5asGvJXDDVY",
        "outputId": "5755c84e-70f3-40c4-902b-bf714b4466ca"
      },
      "execution_count": null,
      "outputs": [
        {
          "output_type": "stream",
          "name": "stdout",
          "text": [
            "Model: \"sequential_5\"\n",
            "_________________________________________________________________\n",
            " Layer (type)                Output Shape              Param #   \n",
            "=================================================================\n",
            " conv2d_12 (Conv2D)          (None, 26, 26, 32)        320       \n",
            "                                                                 \n",
            " max_pooling2d_10 (MaxPooli  (None, 13, 13, 32)        0         \n",
            " ng2D)                                                           \n",
            "                                                                 \n",
            " conv2d_13 (Conv2D)          (None, 11, 11, 64)        18496     \n",
            "                                                                 \n",
            " max_pooling2d_11 (MaxPooli  (None, 5, 5, 64)          0         \n",
            " ng2D)                                                           \n",
            "                                                                 \n",
            " dropout_5 (Dropout)         (None, 5, 5, 64)          0         \n",
            "                                                                 \n",
            " flatten_5 (Flatten)         (None, 1600)              0         \n",
            "                                                                 \n",
            " dense_2 (Dense)             (None, 10)                16010     \n",
            "                                                                 \n",
            "=================================================================\n",
            "Total params: 34826 (136.04 KB)\n",
            "Trainable params: 34826 (136.04 KB)\n",
            "Non-trainable params: 0 (0.00 Byte)\n",
            "_________________________________________________________________\n"
          ]
        }
      ]
    },
    {
      "cell_type": "markdown",
      "source": [
        "We **compile** the model:"
      ],
      "metadata": {
        "id": "eJ2Cu3CzDKyR"
      }
    },
    {
      "cell_type": "code",
      "source": [
        "model.compile(optimizer = 'adam', loss = keras.losses.categorical_crossentropy, metrics = ['accuracy'])"
      ],
      "metadata": {
        "id": "VAO2DwcADYGz"
      },
      "execution_count": null,
      "outputs": []
    },
    {
      "cell_type": "markdown",
      "source": [
        "##Model Training"
      ],
      "metadata": {
        "id": "V0ofBxTdHyCB"
      }
    },
    {
      "cell_type": "code",
      "source": [
        "his = model.fit(X_train, y_train, epochs = 5, validation_split = 0.3)"
      ],
      "metadata": {
        "colab": {
          "base_uri": "https://localhost:8080/"
        },
        "id": "eE7JqHrmH1cO",
        "outputId": "bcd1133e-7d0b-4884-cd28-6bfae39c0e70"
      },
      "execution_count": null,
      "outputs": [
        {
          "output_type": "stream",
          "name": "stdout",
          "text": [
            "Epoch 1/5\n",
            "1313/1313 [==============================] - 9s 6ms/step - loss: 0.2568 - accuracy: 0.9199 - val_loss: 0.0979 - val_accuracy: 0.9705\n",
            "Epoch 2/5\n",
            "1313/1313 [==============================] - 6s 5ms/step - loss: 0.0971 - accuracy: 0.9699 - val_loss: 0.0617 - val_accuracy: 0.9813\n",
            "Epoch 3/5\n",
            "1313/1313 [==============================] - 8s 6ms/step - loss: 0.0744 - accuracy: 0.9760 - val_loss: 0.0566 - val_accuracy: 0.9831\n",
            "Epoch 4/5\n",
            "1313/1313 [==============================] - 6s 5ms/step - loss: 0.0621 - accuracy: 0.9802 - val_loss: 0.0467 - val_accuracy: 0.9859\n",
            "Epoch 5/5\n",
            "1313/1313 [==============================] - 7s 5ms/step - loss: 0.0555 - accuracy: 0.9828 - val_loss: 0.0445 - val_accuracy: 0.9861\n"
          ]
        }
      ]
    },
    {
      "cell_type": "code",
      "source": [
        "test_loss, test_acc = model.evaluate(X_test, y_test)\n",
        "print(\"Test accuracy:\", test_acc)"
      ],
      "metadata": {
        "colab": {
          "base_uri": "https://localhost:8080/"
        },
        "id": "KmTQvxRU3NpA",
        "outputId": "7f746c6f-0c0c-4768-fb8e-fbabe7eb7663"
      },
      "execution_count": null,
      "outputs": [
        {
          "output_type": "stream",
          "name": "stdout",
          "text": [
            "313/313 [==============================] - 1s 3ms/step - loss: 0.0344 - accuracy: 0.9881\n",
            "Test accuracy: 0.988099992275238\n"
          ]
        }
      ]
    },
    {
      "cell_type": "markdown",
      "source": [
        "# Save Model"
      ],
      "metadata": {
        "id": "1xSmVtUgFoGy"
      }
    },
    {
      "cell_type": "code",
      "source": [
        "model.save('model.h5')\n",
        "print('Saved Successfully')"
      ],
      "metadata": {
        "colab": {
          "base_uri": "https://localhost:8080/"
        },
        "id": "ISlrpyoDFNvC",
        "outputId": "28d47d86-b86a-4d69-8283-4366354e67d6"
      },
      "execution_count": null,
      "outputs": [
        {
          "output_type": "stream",
          "name": "stdout",
          "text": [
            "Saved Successfully\n"
          ]
        }
      ]
    },
    {
      "cell_type": "markdown",
      "source": [
        "#Capture and Predict using camera"
      ],
      "metadata": {
        "id": "t2Z1rTO5FPGx"
      }
    },
    {
      "cell_type": "code",
      "source": [
        "from IPython.display import display, Javascript\n",
        "from google.colab.output import eval_js\n",
        "from base64 import b64decode\n",
        "\n",
        "def take_photo(filename='photo.jpg', quality=0.8):\n",
        "  js = Javascript('''\n",
        "    async function takePhoto(quality) {\n",
        "      const div = document.createElement('div');\n",
        "      const capture = document.createElement('button');\n",
        "      capture.textContent = 'Capture';\n",
        "      div.appendChild(capture);\n",
        "\n",
        "      const video = document.createElement('video');\n",
        "      video.style.display = 'block';\n",
        "      const stream = await navigator.mediaDevices.getUserMedia({video: true});\n",
        "\n",
        "      document.body.appendChild(div);\n",
        "      div.appendChild(video);\n",
        "      video.srcObject = stream;\n",
        "      await video.play();\n",
        "\n",
        "      // Resize the output to fit the video element.\n",
        "      google.colab.output.setIframeHeight(document.documentElement.scrollHeight, true);\n",
        "\n",
        "      // Wait for Capture to be clicked.\n",
        "      await new Promise((resolve) => capture.onclick = resolve);\n",
        "\n",
        "      const canvas = document.createElement('canvas');\n",
        "      canvas.width = video.videoWidth;\n",
        "      canvas.height = video.videoHeight;\n",
        "      canvas.getContext('2d').drawImage(video, 0, 0);\n",
        "      stream.getVideoTracks()[0].stop();\n",
        "      div.remove();\n",
        "      return canvas.toDataURL('image/jpeg', quality);\n",
        "    }\n",
        "    ''')\n",
        "  display(js)\n",
        "  data = eval_js('takePhoto({})'.format(quality))\n",
        "  binary = b64decode(data.split(',')[1])\n",
        "  with open(filename, 'wb') as f:\n",
        "    f.write(binary)\n",
        "  return filename"
      ],
      "metadata": {
        "id": "EK_i9OIcqS1E"
      },
      "execution_count": null,
      "outputs": []
    },
    {
      "cell_type": "code",
      "source": [
        "# Function to preprocess the image\n",
        "def preprocess_image(image):\n",
        "    # Resize the image to match the input size of the model\n",
        "    resized_image = cv2.resize(image, (28, 28))  # Assuming input size of 28x28\n",
        "    # Convert to grayscale if necessary\n",
        "    if len(resized_image.shape) > 2 and resized_image.shape[2] == 3:\n",
        "        resized_image = cv2.cvtColor(resized_image, cv2.COLOR_BGR2GRAY)\n",
        "    # Normalize pixel values to range [0, 1]\n",
        "    normalized_image = resized_image.astype('float32') / 255.0\n",
        "    cv2_imshow(normalized_image)\n",
        "    # Reshape the image to match the input shape of the model\n",
        "    input_image = np.expand_dims(normalized_image, axis=0)\n",
        "    input_image = np.expand_dims(input_image, axis=3)  # Add channel dimension\n",
        "    return input_image"
      ],
      "metadata": {
        "id": "6_VxDlIoBSqz"
      },
      "execution_count": null,
      "outputs": []
    },
    {
      "cell_type": "code",
      "source": [
        "from IPython.display import Image\n",
        "filename='photo.jpg'\n",
        "try:\n",
        "  filename = take_photo(filename=filename)\n",
        "  # Show the image which was just taken.\n",
        "  display(Image(filename))\n",
        "except Exception as err:\n",
        "  # Errors will be thrown if the user does not have a webcam or if they do not\n",
        "  # grant the page permission to access it.\n",
        "  print(str(err))\n",
        "# Load and preprocess the new image\n",
        "new_image = cv2.imread(filename)\n",
        "preprocessed_image = preprocess_image(new_image)\n",
        "# Make predictions using the model\n",
        "predictions = model.predict(preprocessed_image)\n",
        "# Interpret the predictions\n",
        "predicted_class = np.argmax(predictions)\n",
        "print(\"Predicted class:\", predicted_class)"
      ],
      "metadata": {
        "colab": {
          "base_uri": "https://localhost:8080/",
          "height": 560
        },
        "id": "7FtHrj8dqS1O",
        "outputId": "c09cfeaa-7d1e-4cab-eb2e-5ebecfe6c786"
      },
      "execution_count": null,
      "outputs": [
        {
          "output_type": "display_data",
          "data": {
            "text/plain": [
              "<IPython.core.display.Javascript object>"
            ],
            "application/javascript": [
              "\n",
              "    async function takePhoto(quality) {\n",
              "      const div = document.createElement('div');\n",
              "      const capture = document.createElement('button');\n",
              "      capture.textContent = 'Capture';\n",
              "      div.appendChild(capture);\n",
              "\n",
              "      const video = document.createElement('video');\n",
              "      video.style.display = 'block';\n",
              "      const stream = await navigator.mediaDevices.getUserMedia({video: true});\n",
              "\n",
              "      document.body.appendChild(div);\n",
              "      div.appendChild(video);\n",
              "      video.srcObject = stream;\n",
              "      await video.play();\n",
              "\n",
              "      // Resize the output to fit the video element.\n",
              "      google.colab.output.setIframeHeight(document.documentElement.scrollHeight, true);\n",
              "\n",
              "      // Wait for Capture to be clicked.\n",
              "      await new Promise((resolve) => capture.onclick = resolve);\n",
              "\n",
              "      const canvas = document.createElement('canvas');\n",
              "      canvas.width = video.videoWidth;\n",
              "      canvas.height = video.videoHeight;\n",
              "      canvas.getContext('2d').drawImage(video, 0, 0);\n",
              "      stream.getVideoTracks()[0].stop();\n",
              "      div.remove();\n",
              "      return canvas.toDataURL('image/jpeg', quality);\n",
              "    }\n",
              "    "
            ]
          },
          "metadata": {}
        },
        {
          "output_type": "display_data",
          "data": {
            "image/jpeg": "[encoded data removed]",
            "text/plain": [
              "<IPython.core.display.Image object>"
            ]
          },
          "metadata": {}
        },
        {
          "output_type": "display_data",
          "data": {
            "text/plain": [
              "<PIL.Image.Image image mode=L size=28x28>"
            ],
            "image/png": "[encoded data removed]"
          },
          "metadata": {}
        },
        {
          "output_type": "stream",
          "name": "stdout",
          "text": [
            "1/1 [==============================] - 0s 17ms/step\n",
            "Predicted class: 3\n"
          ]
        }
      ]
    },
    {
      "cell_type": "code",
      "source": [],
      "metadata": {
        "id": "N1zgvTSN5vys"
      },
      "execution_count": null,
      "outputs": []
    }
  ]
}